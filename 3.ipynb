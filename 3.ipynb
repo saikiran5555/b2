{
 "cells": [
  {
   "cell_type": "markdown",
   "id": "45d00f52",
   "metadata": {},
   "source": [
    "To optimize the performance of a Gradient Boosting Regression model, experimenting with key hyperparameters like learning rate, number of trees (n_estimators), and tree depth (max_depth) is crucial. Both Grid Search and Random Search are popular methods for hyperparameter optimization, allowing you to systematically explore a range of hyperparameter values to find the best combination for your model.\n",
    "\n",
    "Grid Search\n",
    "Grid Search systematically explores a specified subset of hyperparameters, training and evaluating a model for each combination of hyperparameters. It's exhaustive and ensures that you explore all specified combinations, but it can be computationally expensive, especially with a large number of hyperparameters or when the range of values for each hyperparameter is large.\n",
    "\n",
    "Random Search\n",
    "Random Search samples a specified number of combinations of hyperparameters from a defined distribution. It's less exhaustive than Grid Search but can be more efficient, especially when some hyperparameters are more important than others. Random Search can sometimes find a good combination of hyperparameters more quickly than Grid Search."
   ]
  },
  {
   "cell_type": "code",
   "execution_count": 1,
   "id": "1bacc933",
   "metadata": {},
   "outputs": [
    {
     "name": "stdout",
     "output_type": "stream",
     "text": [
      "Fitting 5 folds for each of 27 candidates, totalling 135 fits\n",
      "Best parameters: {'learning_rate': 0.1, 'max_depth': 3, 'n_estimators': 300}\n",
      "Best score (neg_mean_squared_error): -2728.2846132144614\n",
      "Test score: 0.9450805380973991\n"
     ]
    }
   ],
   "source": [
    "from sklearn.datasets import make_regression\n",
    "from sklearn.model_selection import GridSearchCV, train_test_split\n",
    "from sklearn.ensemble import GradientBoostingRegressor\n",
    "import numpy as np\n",
    "\n",
    "# Generate a synthetic dataset\n",
    "X, y = make_regression(n_samples=1000, n_features=20, noise=0.1, random_state=42)\n",
    "\n",
    "# Split dataset into training and testing sets\n",
    "X_train, X_test, y_train, y_test = train_test_split(X, y, test_size=0.2, random_state=42)\n",
    "\n",
    "# Define the model\n",
    "model = GradientBoostingRegressor()\n",
    "\n",
    "# Define the grid of hyperparameters to search\n",
    "param_grid = {\n",
    "    'n_estimators': [100, 200, 300],\n",
    "    'learning_rate': [0.01, 0.1, 0.2],\n",
    "    'max_depth': [3, 4, 5]\n",
    "}\n",
    "\n",
    "# Set up the grid search\n",
    "grid_search = GridSearchCV(estimator=model, param_grid=param_grid, cv=5, n_jobs=-1, verbose=2, scoring='neg_mean_squared_error')\n",
    "\n",
    "# Perform the grid search\n",
    "grid_search.fit(X_train, y_train)\n",
    "\n",
    "# Print the best parameters and best score\n",
    "print(\"Best parameters:\", grid_search.best_params_)\n",
    "print(\"Best score (neg_mean_squared_error):\", grid_search.best_score_)\n",
    "\n",
    "# Evaluate on the test set\n",
    "best_model = grid_search.best_estimator_\n",
    "test_score = best_model.score(X_test, y_test)\n",
    "print(\"Test score:\", test_score)\n"
   ]
  },
  {
   "cell_type": "code",
   "execution_count": null,
   "id": "224fcd31",
   "metadata": {},
   "outputs": [],
   "source": []
  }
 ],
 "metadata": {
  "kernelspec": {
   "display_name": "Python 3 (ipykernel)",
   "language": "python",
   "name": "python3"
  },
  "language_info": {
   "codemirror_mode": {
    "name": "ipython",
    "version": 3
   },
   "file_extension": ".py",
   "mimetype": "text/x-python",
   "name": "python",
   "nbconvert_exporter": "python",
   "pygments_lexer": "ipython3",
   "version": "3.10.9"
  }
 },
 "nbformat": 4,
 "nbformat_minor": 5
}
